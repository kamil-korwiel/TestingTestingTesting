{
 "cells": [
  {
   "cell_type": "code",
   "execution_count": 1,
   "metadata": {},
   "outputs": [],
   "source": [
    "from playwright.async_api import async_playwright, Playwright, Page"
   ]
  },
  {
   "cell_type": "code",
   "execution_count": 2,
   "metadata": {},
   "outputs": [],
   "source": [
    "playwright = await async_playwright().start()\n",
    "browser = await playwright.chromium.launch()\n",
    "page = await browser.new_page()\n",
    "\n"
   ]
  },
  {
   "cell_type": "code",
   "execution_count": null,
   "metadata": {},
   "outputs": [],
   "source": [
    "\n",
    "\n",
    "user_name = \"standard_user\"\n",
    "password = \"secret_sauce\"\n",
    "\n",
    "\n",
    "async def login(page: Page,user: str,password: str):\n",
    "    await page.goto(\"https://www.saucedemo.com/\")\n",
    "    await page.locator(\"[data-test=\\\"username\\\"]\").click()\n",
    "    await page.locator(\"[data-test=\\\"username\\\"]\").fill(user)\n",
    "    await page.locator(\"[data-test=\\\"password\\\"]\").click()\n",
    "    await page.locator(\"[data-test=\\\"password\\\"]\").fill(password)\n",
    "    await page.locator(\"[data-test=\\\"login-button\\\"]\").click()\n",
    "    \n",
    "\n",
    "\n",
    "\n",
    "await login(page, user_name , password)\n",
    "list_of_items = await page.locator(\"[data-test=\\\"inventory-list\\\"]\").locator(\"[data-test=\\\"inventory-item\\\"]\").all()\n",
    "    "
   ]
  },
  {
   "cell_type": "code",
   "execution_count": 5,
   "metadata": {},
   "outputs": [
    {
     "data": {
      "text/plain": [
       "[<Locator frame=<Frame name= url='https://www.saucedemo.com/inventory.html'> selector='[data-test=\"inventory-list\"] >> [data-test=\"inventory-item\"] >> nth=0'>,\n",
       " <Locator frame=<Frame name= url='https://www.saucedemo.com/inventory.html'> selector='[data-test=\"inventory-list\"] >> [data-test=\"inventory-item\"] >> nth=1'>,\n",
       " <Locator frame=<Frame name= url='https://www.saucedemo.com/inventory.html'> selector='[data-test=\"inventory-list\"] >> [data-test=\"inventory-item\"] >> nth=2'>,\n",
       " <Locator frame=<Frame name= url='https://www.saucedemo.com/inventory.html'> selector='[data-test=\"inventory-list\"] >> [data-test=\"inventory-item\"] >> nth=3'>,\n",
       " <Locator frame=<Frame name= url='https://www.saucedemo.com/inventory.html'> selector='[data-test=\"inventory-list\"] >> [data-test=\"inventory-item\"] >> nth=4'>,\n",
       " <Locator frame=<Frame name= url='https://www.saucedemo.com/inventory.html'> selector='[data-test=\"inventory-list\"] >> [data-test=\"inventory-item\"] >> nth=5'>]"
      ]
     },
     "execution_count": 5,
     "metadata": {},
     "output_type": "execute_result"
    }
   ],
   "source": [
    "list_of_items"
   ]
  },
  {
   "cell_type": "code",
   "execution_count": 9,
   "metadata": {},
   "outputs": [],
   "source": [
    "uno_item = await list_of_items[0].locator('[data-test=\"inventory-item-name\"]').text_content(timeout=10)"
   ]
  },
  {
   "cell_type": "code",
   "execution_count": 18,
   "metadata": {},
   "outputs": [
    {
     "name": "stdout",
     "output_type": "stream",
     "text": [
      "Test.allTheThings() T-Shirt (Red)\n",
      "Sauce Labs Bike Light\n",
      "False\n",
      "Sauce Labs Bolt T-Shirt\n",
      "True\n",
      "Sauce Labs Fleece Jacket\n",
      "True\n",
      "Sauce Labs Onesie\n",
      "True\n",
      "Test.allTheThings() T-Shirt (Red)\n",
      "True\n"
     ]
    }
   ],
   "source": [
    "\n",
    "print(uno_item)\n",
    "for i in range(1, len(list_of_items)):\n",
    "    dos_item = await list_of_items[i].locator('[data-test=\"inventory-item-name\"]').text_content()\n",
    "    print(dos_item)\n",
    "    print(uno_item < dos_item)\n",
    "    uno_item = dos_item"
   ]
  },
  {
   "cell_type": "code",
   "execution_count": 46,
   "metadata": {},
   "outputs": [],
   "source": [
    "await browser.close()\n",
    "await playwright.stop()"
   ]
  }
 ],
 "metadata": {
  "kernelspec": {
   "display_name": "venv",
   "language": "python",
   "name": "python3"
  },
  "language_info": {
   "codemirror_mode": {
    "name": "ipython",
    "version": 3
   },
   "file_extension": ".py",
   "mimetype": "text/x-python",
   "name": "python",
   "nbconvert_exporter": "python",
   "pygments_lexer": "ipython3",
   "version": "3.12.7"
  }
 },
 "nbformat": 4,
 "nbformat_minor": 2
}
